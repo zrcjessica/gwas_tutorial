{
 "cells": [
  {
   "cell_type": "markdown",
   "metadata": {},
   "source": [
    "# Installing PLINK\n",
    "Make sure you have PLINK on your computer and ready to use. An easy installation method is via Anaconda (v1.90b4). To do so, enter `conda install -c bioconda plink` into your command line. Alternatively, please follow the instructions on the [PLINK website](https://www.cog-genomics.org/plink2). To check that PLINK has been installed, enter `plink` in your command line. <br>\n",
    "\n",
    "# What is PLINK? \n",
    "PLINK is a popular genome analysis toolset with numerous functionalities. PLINK formatted genotype files can come in a binary fileset comprised of bed/bim/fam files, or a standard text fileset comprised of ped/map files. You can read about these file formats [here](https://www.cog-genomics.org/plink2/formats#bed). Some basic functions of PLINK which can be useful for parsing/QCing large genetic datasets include functions for selecting SNPs on specific chromosomes (`--chr`); passing a list of variants or individuals to keep or exclude (`--keep`, `--exclude`); pruning for linkage disequilibrum (`--indep`); compute relationship matrices (`--make-grm-bin`); performing population stratification (`--pca/--cluster`); and merging multiple genetic filesets (`--merge-list`) - to just scratch the surface of its functionalities!\n",
    "\n",
    "# Data download from 1000 Genomes phase 3\n",
    "We will be working with data from the 1000 Genomes phase 3 reference genomes. Due to the large datasets, we will not be working with whole genome data. Instead, we will just work with data from chromosome 1 to perform population stratification. You will see that this is more than enough genetic data for our purposes!\n",
    "\n",
    "## Reported population data\n",
    "\n",
    "The 2504 samples in the phase3 release are from 26 populations which can be categorised into five super-populations \n",
    "by continent (listed below).  As well as the global AF in the INFO field. We added AF for each super-population to the INFO field. <br>\n",
    "\n",
    "| Super-population | Code |\n",
    "| - | - |\n",
    "| East Asian | EAS |\n",
    "| South Asian | SAS |\n",
    "| African | AFR |\n",
    "| European | EUR |\n",
    "| Ad Mixed American | AMR |\n",
    "\n",
    "A full table including the 26 populations can be found [here](http://www.internationalgenome.org/category/population/). <br>\n",
    "\n",
    "The population assignments for each individual can be found in `integrated_call_samples_v3.20130502.ALL.panel`\n"
   ]
  },
  {
   "cell_type": "code",
   "execution_count": 5,
   "metadata": {},
   "outputs": [
    {
     "name": "stdout",
     "output_type": "stream",
     "text": [
      "--2018-09-10 13:06:15--  ftp://ftp.1000genomes.ebi.ac.uk/vol1/ftp/release/20130502/integrated_call_samples_v3.20130502.ALL.panel\n",
      "           => ‘integrated_call_samples_v3.20130502.ALL.panel’\n",
      "Resolving ftp.1000genomes.ebi.ac.uk (ftp.1000genomes.ebi.ac.uk)... 193.62.192.8\n",
      "Connecting to ftp.1000genomes.ebi.ac.uk (ftp.1000genomes.ebi.ac.uk)|193.62.192.8|:21... connected.\n",
      "Logging in as anonymous ... Logged in!\n",
      "==> SYST ... done.    ==> PWD ... done.\n",
      "==> TYPE I ... done.  ==> CWD (1) /vol1/ftp/release/20130502 ... done.\n",
      "==> SIZE integrated_call_samples_v3.20130502.ALL.panel ... 55156\n",
      "==> PASV ... done.    ==> RETR integrated_call_samples_v3.20130502.ALL.panel ... done.\n",
      "Length: 55156 (54K) (unauthoritative)\n",
      "\n",
      "integrated_call_sam 100%[===================>]  53.86K   153KB/s    in 0.4s    \n",
      "\n",
      "2018-09-10 13:06:18 (153 KB/s) - ‘integrated_call_samples_v3.20130502.ALL.panel’ saved [55156]\n",
      "\n"
     ]
    }
   ],
   "source": [
    "!wget ftp://ftp.1000genomes.ebi.ac.uk/vol1/ftp/release/20130502/integrated_call_samples_v3.20130502.ALL.panel"
   ]
  },
  {
   "cell_type": "markdown",
   "metadata": {},
   "source": [
    "## Download HapMap Phase 3 genotype data for chr1 (.vcf format)\n",
    "`wget ftp://ftp.1000genomes.ebi.ac.uk/vol1/ftp/release/20130502/ALL.chr1.phase3_shapeit2_mvncall_integrated_v5a.20130502.genotypes.vcf.gz`"
   ]
  },
  {
   "cell_type": "markdown",
   "metadata": {},
   "source": [
    "## Convert .vcf to PLINK binary fileset (.bed/.bim/.fam)\n",
    "`plink --vcf ALL.chr1.phase3_shapeit2_mvncall_integrated_v5a.20130502.genotypes.vcf.gz --allow-no-samples --out ALL.chr1.phase3_shapeit2_mvncall_integrated_v5b.20130502.sites`\n"
   ]
  },
  {
   "cell_type": "markdown",
   "metadata": {},
   "source": [
    "# Randomly extract variants from chr1 with $p=0.01$\n",
    "\n",
    "Because these reference genotypes are so comprehensive, the data is very large and needs to be thinned for feasible computational time for the purposes of this workshop."
   ]
  },
  {
   "cell_type": "code",
   "execution_count": 3,
   "metadata": {},
   "outputs": [
    {
     "name": "stdout",
     "output_type": "stream",
     "text": [
      "PLINK v1.90b4 64-bit (20 Mar 2017)             www.cog-genomics.org/plink/1.9/\n",
      "(C) 2005-2017 Shaun Purcell, Christopher Chang   GNU General Public License v3\n",
      "Logging to ALL.chr1.phase3.1.log.\n",
      "Options in effect:\n",
      "  --bfile ALL.chr1.phase3_shapeit2_mvncall_integrated_v5b.20130502.site\n",
      "  --make-bed\n",
      "  --out ALL.chr1.phase3.1\n",
      "  --thin 0.01\n",
      "\n",
      "16384 MB RAM detected; reserving 8192 MB for main workspace.\n",
      "4722544 variants loaded from .bim file.\n",
      "2504 people (0 males, 0 females, 2504 ambiguous) loaded from .fam.\n",
      "Ambiguous sex IDs written to ALL.chr1.phase3.1.nosex .\n",
      "--thin: 4675562 variants removed (46982 remaining).\n",
      "Using 1 thread (no multithreaded calculations invoked).\n",
      "Before main variant filters, 2504 founders and 0 nonfounders present.\n",
      "Calculating allele frequencies... 10111213141516171819202122232425262728293031323334353637383940414243444546474849505152535455565758596061626364656667686970717273747576777879808182838485868788899091929394959697989 done.\n",
      "Total genotyping rate is 0.999925.\n",
      "46982 variants and 2504 people pass filters and QC.\n",
      "Note: No phenotypes present.\n",
      "--make-bed to ALL.chr1.phase3.1.bed + ALL.chr1.phase3.1.bim +\n",
      "ALL.chr1.phase3.1.fam ... 101112131415161718192021222324252627282930313233343536373839404142434445464748495051525354555657585960616263646566676869707172737475767778798081828384858687888990919293949596979899done.\n"
     ]
    }
   ],
   "source": [
    "!plink --bfile ALL.chr1.phase3_shapeit2_mvncall_integrated_v5b.20130502.site --thin 0.01 --make-bed --out ALL.chr1.phase3.1"
   ]
  },
  {
   "cell_type": "markdown",
   "metadata": {},
   "source": [
    "# Population stratification with PCA\n",
    "\n",
    "__Principal component analysis (PCA)__ is a common method for population stratification for genotype data. Because ancestry is a confounding variable and there can be nuances in the genetics across populations, genetic studies often focus on specific populations/subpopulations. <br>\n",
    "\n",
    "### What is PCA?\n",
    "What do you do when you have an overwhelming number of variables to consider for an analysis (here, each individual allele corresponds to? You might try to focus on just a few key variables. This is analagous to reducing the dimensions of your feature space, in technical terms - which is exactly what PCA does! There are a variety of methods for dimensionality reduction, but the two main classes are *feature elimination* and *feature extraction*, and many methods can be used to achieve these goals. Without going into the details, it's a lot of linear algebra. If you'd like to learn more, here are some good resources:<br>\n",
    "http://setosa.io/ev/principal-component-analysis/ <br>\n",
    "https://towardsdatascience.com/a-one-stop-shop-for-principal-component-analysis-5582fb7e0a9c <br>\n",
    "\n",
    "We will be using PLINK's `--pca` routine, implemented as follows: <br>\n",
    "\n",
    "`--pca {count} <header> <tabs> <var-wts>` <br>\n",
    "\n",
    "By default, `--pca` extracts the top 20 principal components of the variance-standardized relationship matrix; you can change the number by passing a numeric parameter. Eigenvectors are written to plink.eigenvec, and top eigenvalues are written to plink.eigenval. The 'header' modifier adds a header line to the .eigenvec file(s), and the 'tabs' modifier makes the .eigenvec file(s) tab- instead of space-delimited."
   ]
  },
  {
   "cell_type": "code",
   "execution_count": 46,
   "metadata": {},
   "outputs": [
    {
     "name": "stdout",
     "output_type": "stream",
     "text": [
      "PLINK v1.90b4 64-bit (20 Mar 2017)             www.cog-genomics.org/plink/1.9/\n",
      "(C) 2005-2017 Shaun Purcell, Christopher Chang   GNU General Public License v3\n",
      "Logging to ALL.chr1.phase3.1.log.\n",
      "Options in effect:\n",
      "  --bfile ALL.chr1.phase3.1\n",
      "  --out ALL.chr1.phase3.1\n",
      "  --pca header tabs\n",
      "\n",
      "16384 MB RAM detected; reserving 8192 MB for main workspace.\n",
      "47074 variants loaded from .bim file.\n",
      "2504 people (0 males, 0 females, 2504 ambiguous) loaded from .fam.\n",
      "Ambiguous sex IDs written to ALL.chr1.phase3.1.nosex .\n",
      "Using up to 8 threads (change this with --threads).\n",
      "Before main variant filters, 2504 founders and 0 nonfounders present.\n",
      "Calculating allele frequencies... 10111213141516171819202122232425262728293031323334353637383940414243444546474849505152535455565758596061626364656667686970717273747576777879808182838485868788899091929394959697989 done.\n",
      "Total genotyping rate is 0.999903.\n",
      "47074 variants and 2504 people pass filters and QC.\n",
      "Note: No phenotypes present.\n",
      "Relationship matrix calculation complete.\n",
      "--pca: Results saved to ALL.chr1.phase3.1.eigenval and\n",
      "ALL.chr1.phase3.1.eigenvec .\n"
     ]
    }
   ],
   "source": [
    "!plink --bfile ALL.chr1.phase3.1 --pca header tabs --out ALL.chr1.phase3.1"
   ]
  },
  {
   "cell_type": "markdown",
   "metadata": {},
   "source": [
    "# Visualize!\n",
    "Let's see how well PLINK was able to stratify the 1000 Genomes super populations."
   ]
  },
  {
   "cell_type": "code",
   "execution_count": 12,
   "metadata": {},
   "outputs": [],
   "source": [
    "import pandas as pd\n",
    "import matplotlib.pyplot as plt\n",
    "%matplotlib inline\n",
    "import matplotlib.cm as cm\n",
    "import numpy as np"
   ]
  },
  {
   "cell_type": "code",
   "execution_count": 47,
   "metadata": {},
   "outputs": [
    {
     "name": "stdout",
     "output_type": "stream",
     "text": [
      "[43.1087, 14.5554, 5.73297, 4.30199, 3.86828]\n"
     ]
    }
   ],
   "source": [
    "# load eigenvalues\n",
    "eigenvals = open('ALL.chr1.phase3.1.eigenval').read().splitlines()\n",
    "eigenvals = [float(x) for x in eigenvals]\n",
    "print(eigenvals[:5])"
   ]
  },
  {
   "cell_type": "code",
   "execution_count": 48,
   "metadata": {},
   "outputs": [
    {
     "data": {
      "text/html": [
       "<div>\n",
       "<style scoped>\n",
       "    .dataframe tbody tr th:only-of-type {\n",
       "        vertical-align: middle;\n",
       "    }\n",
       "\n",
       "    .dataframe tbody tr th {\n",
       "        vertical-align: top;\n",
       "    }\n",
       "\n",
       "    .dataframe thead th {\n",
       "        text-align: right;\n",
       "    }\n",
       "</style>\n",
       "<table border=\"1\" class=\"dataframe\">\n",
       "  <thead>\n",
       "    <tr style=\"text-align: right;\">\n",
       "      <th></th>\n",
       "      <th>FID</th>\n",
       "      <th>IID</th>\n",
       "      <th>PC1</th>\n",
       "      <th>PC2</th>\n",
       "      <th>PC3</th>\n",
       "      <th>PC4</th>\n",
       "      <th>PC5</th>\n",
       "      <th>PC6</th>\n",
       "      <th>PC7</th>\n",
       "      <th>PC8</th>\n",
       "      <th>...</th>\n",
       "      <th>PC11</th>\n",
       "      <th>PC12</th>\n",
       "      <th>PC13</th>\n",
       "      <th>PC14</th>\n",
       "      <th>PC15</th>\n",
       "      <th>PC16</th>\n",
       "      <th>PC17</th>\n",
       "      <th>PC18</th>\n",
       "      <th>PC19</th>\n",
       "      <th>PC20</th>\n",
       "    </tr>\n",
       "  </thead>\n",
       "  <tbody>\n",
       "    <tr>\n",
       "      <th>0</th>\n",
       "      <td>HG00096</td>\n",
       "      <td>HG00096</td>\n",
       "      <td>-0.011537</td>\n",
       "      <td>0.021059</td>\n",
       "      <td>0.007825</td>\n",
       "      <td>-0.014831</td>\n",
       "      <td>-0.000231</td>\n",
       "      <td>-0.001340</td>\n",
       "      <td>-0.000521</td>\n",
       "      <td>-0.000467</td>\n",
       "      <td>...</td>\n",
       "      <td>-0.000529</td>\n",
       "      <td>-0.000332</td>\n",
       "      <td>-0.000452</td>\n",
       "      <td>-0.000757</td>\n",
       "      <td>-0.000059</td>\n",
       "      <td>0.002312</td>\n",
       "      <td>-0.000054</td>\n",
       "      <td>0.002009</td>\n",
       "      <td>0.000453</td>\n",
       "      <td>0.000212</td>\n",
       "    </tr>\n",
       "    <tr>\n",
       "      <th>1</th>\n",
       "      <td>HG00097</td>\n",
       "      <td>HG00097</td>\n",
       "      <td>-0.012174</td>\n",
       "      <td>0.026548</td>\n",
       "      <td>0.012640</td>\n",
       "      <td>-0.020191</td>\n",
       "      <td>-0.000751</td>\n",
       "      <td>0.000270</td>\n",
       "      <td>-0.001567</td>\n",
       "      <td>0.000996</td>\n",
       "      <td>...</td>\n",
       "      <td>-0.000047</td>\n",
       "      <td>-0.000547</td>\n",
       "      <td>0.000064</td>\n",
       "      <td>-0.002723</td>\n",
       "      <td>0.000156</td>\n",
       "      <td>-0.001295</td>\n",
       "      <td>-0.001603</td>\n",
       "      <td>0.000174</td>\n",
       "      <td>-0.000006</td>\n",
       "      <td>0.003129</td>\n",
       "    </tr>\n",
       "    <tr>\n",
       "      <th>2</th>\n",
       "      <td>HG00099</td>\n",
       "      <td>HG00099</td>\n",
       "      <td>-0.012256</td>\n",
       "      <td>0.023600</td>\n",
       "      <td>0.017761</td>\n",
       "      <td>-0.015891</td>\n",
       "      <td>0.000156</td>\n",
       "      <td>-0.001411</td>\n",
       "      <td>0.000128</td>\n",
       "      <td>0.000204</td>\n",
       "      <td>...</td>\n",
       "      <td>-0.001642</td>\n",
       "      <td>0.000599</td>\n",
       "      <td>0.000066</td>\n",
       "      <td>0.000830</td>\n",
       "      <td>0.001552</td>\n",
       "      <td>0.002155</td>\n",
       "      <td>-0.000231</td>\n",
       "      <td>-0.000402</td>\n",
       "      <td>0.000894</td>\n",
       "      <td>0.001018</td>\n",
       "    </tr>\n",
       "    <tr>\n",
       "      <th>3</th>\n",
       "      <td>HG00100</td>\n",
       "      <td>HG00100</td>\n",
       "      <td>-0.012272</td>\n",
       "      <td>0.024717</td>\n",
       "      <td>0.014777</td>\n",
       "      <td>-0.017091</td>\n",
       "      <td>0.001272</td>\n",
       "      <td>0.001756</td>\n",
       "      <td>-0.000761</td>\n",
       "      <td>-0.000269</td>\n",
       "      <td>...</td>\n",
       "      <td>-0.000555</td>\n",
       "      <td>0.000166</td>\n",
       "      <td>0.000016</td>\n",
       "      <td>-0.001428</td>\n",
       "      <td>-0.000777</td>\n",
       "      <td>-0.001752</td>\n",
       "      <td>0.001073</td>\n",
       "      <td>-0.001136</td>\n",
       "      <td>0.001666</td>\n",
       "      <td>-0.001651</td>\n",
       "    </tr>\n",
       "    <tr>\n",
       "      <th>4</th>\n",
       "      <td>HG00101</td>\n",
       "      <td>HG00101</td>\n",
       "      <td>-0.011775</td>\n",
       "      <td>0.026316</td>\n",
       "      <td>0.019976</td>\n",
       "      <td>-0.023055</td>\n",
       "      <td>0.001581</td>\n",
       "      <td>-0.002156</td>\n",
       "      <td>-0.000880</td>\n",
       "      <td>-0.001756</td>\n",
       "      <td>...</td>\n",
       "      <td>0.000925</td>\n",
       "      <td>0.000469</td>\n",
       "      <td>-0.000077</td>\n",
       "      <td>0.000225</td>\n",
       "      <td>0.000955</td>\n",
       "      <td>-0.001467</td>\n",
       "      <td>0.000390</td>\n",
       "      <td>0.001340</td>\n",
       "      <td>0.002281</td>\n",
       "      <td>-0.000148</td>\n",
       "    </tr>\n",
       "  </tbody>\n",
       "</table>\n",
       "<p>5 rows × 22 columns</p>\n",
       "</div>"
      ],
      "text/plain": [
       "       FID      IID       PC1       PC2       PC3       PC4       PC5  \\\n",
       "0  HG00096  HG00096 -0.011537  0.021059  0.007825 -0.014831 -0.000231   \n",
       "1  HG00097  HG00097 -0.012174  0.026548  0.012640 -0.020191 -0.000751   \n",
       "2  HG00099  HG00099 -0.012256  0.023600  0.017761 -0.015891  0.000156   \n",
       "3  HG00100  HG00100 -0.012272  0.024717  0.014777 -0.017091  0.001272   \n",
       "4  HG00101  HG00101 -0.011775  0.026316  0.019976 -0.023055  0.001581   \n",
       "\n",
       "        PC6       PC7       PC8    ...         PC11      PC12      PC13  \\\n",
       "0 -0.001340 -0.000521 -0.000467    ...    -0.000529 -0.000332 -0.000452   \n",
       "1  0.000270 -0.001567  0.000996    ...    -0.000047 -0.000547  0.000064   \n",
       "2 -0.001411  0.000128  0.000204    ...    -0.001642  0.000599  0.000066   \n",
       "3  0.001756 -0.000761 -0.000269    ...    -0.000555  0.000166  0.000016   \n",
       "4 -0.002156 -0.000880 -0.001756    ...     0.000925  0.000469 -0.000077   \n",
       "\n",
       "       PC14      PC15      PC16      PC17      PC18      PC19      PC20  \n",
       "0 -0.000757 -0.000059  0.002312 -0.000054  0.002009  0.000453  0.000212  \n",
       "1 -0.002723  0.000156 -0.001295 -0.001603  0.000174 -0.000006  0.003129  \n",
       "2  0.000830  0.001552  0.002155 -0.000231 -0.000402  0.000894  0.001018  \n",
       "3 -0.001428 -0.000777 -0.001752  0.001073 -0.001136  0.001666 -0.001651  \n",
       "4  0.000225  0.000955 -0.001467  0.000390  0.001340  0.002281 -0.000148  \n",
       "\n",
       "[5 rows x 22 columns]"
      ]
     },
     "execution_count": 48,
     "metadata": {},
     "output_type": "execute_result"
    }
   ],
   "source": [
    "# load eigenvecs\n",
    "eigenvecs = pd.read_table('ALL.chr1.phase3.1.eigenvec')\n",
    "eigenvecs.head()"
   ]
  },
  {
   "cell_type": "code",
   "execution_count": 49,
   "metadata": {},
   "outputs": [
    {
     "data": {
      "text/plain": [
       "(2504, 22)"
      ]
     },
     "execution_count": 49,
     "metadata": {},
     "output_type": "execute_result"
    }
   ],
   "source": [
    "eigenvecs.shape"
   ]
  },
  {
   "cell_type": "code",
   "execution_count": 50,
   "metadata": {},
   "outputs": [
    {
     "data": {
      "text/plain": [
       "<matplotlib.collections.PathCollection at 0x11393b550>"
      ]
     },
     "execution_count": 50,
     "metadata": {},
     "output_type": "execute_result"
    },
    {
     "data": {
      "image/png": "[encoded data removed]",
      "text/plain": [
       "<Figure size 432x288 with 1 Axes>"
      ]
     },
     "metadata": {},
     "output_type": "display_data"
    }
   ],
   "source": [
    "# Plot first two principal components\n",
    "x = eigenvecs['PC1']\n",
    "y = eigenvecs['PC2']\n",
    "plt.scatter(x,y,alpha=0.3)"
   ]
  },
  {
   "cell_type": "code",
   "execution_count": 19,
   "metadata": {},
   "outputs": [
    {
     "data": {
      "text/html": [
       "<div>\n",
       "<style scoped>\n",
       "    .dataframe tbody tr th:only-of-type {\n",
       "        vertical-align: middle;\n",
       "    }\n",
       "\n",
       "    .dataframe tbody tr th {\n",
       "        vertical-align: top;\n",
       "    }\n",
       "\n",
       "    .dataframe thead th {\n",
       "        text-align: right;\n",
       "    }\n",
       "</style>\n",
       "<table border=\"1\" class=\"dataframe\">\n",
       "  <thead>\n",
       "    <tr style=\"text-align: right;\">\n",
       "      <th></th>\n",
       "      <th>sample</th>\n",
       "      <th>pop</th>\n",
       "      <th>super_pop</th>\n",
       "      <th>gender</th>\n",
       "    </tr>\n",
       "  </thead>\n",
       "  <tbody>\n",
       "    <tr>\n",
       "      <th>0</th>\n",
       "      <td>HG00096</td>\n",
       "      <td>GBR</td>\n",
       "      <td>EUR</td>\n",
       "      <td>male</td>\n",
       "    </tr>\n",
       "    <tr>\n",
       "      <th>1</th>\n",
       "      <td>HG00097</td>\n",
       "      <td>GBR</td>\n",
       "      <td>EUR</td>\n",
       "      <td>female</td>\n",
       "    </tr>\n",
       "    <tr>\n",
       "      <th>2</th>\n",
       "      <td>HG00099</td>\n",
       "      <td>GBR</td>\n",
       "      <td>EUR</td>\n",
       "      <td>female</td>\n",
       "    </tr>\n",
       "    <tr>\n",
       "      <th>3</th>\n",
       "      <td>HG00100</td>\n",
       "      <td>GBR</td>\n",
       "      <td>EUR</td>\n",
       "      <td>female</td>\n",
       "    </tr>\n",
       "    <tr>\n",
       "      <th>4</th>\n",
       "      <td>HG00101</td>\n",
       "      <td>GBR</td>\n",
       "      <td>EUR</td>\n",
       "      <td>male</td>\n",
       "    </tr>\n",
       "  </tbody>\n",
       "</table>\n",
       "</div>"
      ],
      "text/plain": [
       "    sample  pop super_pop  gender\n",
       "0  HG00096  GBR       EUR    male\n",
       "1  HG00097  GBR       EUR  female\n",
       "2  HG00099  GBR       EUR  female\n",
       "3  HG00100  GBR       EUR  female\n",
       "4  HG00101  GBR       EUR    male"
      ]
     },
     "execution_count": 19,
     "metadata": {},
     "output_type": "execute_result"
    }
   ],
   "source": [
    "# load pop data\n",
    "pop = pd.read_table('integrated_call_samples_v3.20130502.ALL.panel', usecols=[0,1,2,3])\n",
    "pop.head()"
   ]
  },
  {
   "cell_type": "code",
   "execution_count": 25,
   "metadata": {},
   "outputs": [
    {
     "data": {
      "text/plain": [
       "<matplotlib.legend.Legend at 0x10a8f6400>"
      ]
     },
     "execution_count": 25,
     "metadata": {},
     "output_type": "execute_result"
    },
    {
     "data": {
      "image/png": "[encoded data removed]",
      "text/plain": [
       "<Figure size 432x288 with 1 Axes>"
      ]
     },
     "metadata": {},
     "output_type": "display_data"
    }
   ],
   "source": [
    "# plot first two PCs\n",
    "fig = plt.figure()\n",
    "ax = fig.add_subplot(111)\n",
    "\n",
    "# generate colormap for super pops\n",
    "colors=cm.rainbow(np.linspace(0,1,len(set(pop['super_pop']))))\n",
    "\n",
    "# plot (PC1,PC2) for each individual in each super pop\n",
    "for p, col in zip(set(pop['super_pop']),colors):\n",
    "    inds = pop[pop['super_pop']==p]['sample']\n",
    "    pc1 = eigenvecs[eigenvecs['FID'].isin(inds)]['PC1']\n",
    "    pc2 = eigenvecs[eigenvecs['FID'].isin(inds)]['PC2']\n",
    "    ax.scatter(pc1,pc2, c = col, alpha=0.3, label = p)\n",
    "    \n",
    "ax.legend()"
   ]
  },
  {
   "cell_type": "markdown",
   "metadata": {},
   "source": [
    "You can see that the five populations cluster neatly. There is some overlap between EUR (Europeans) and AMR (Ad Mixed American). This is not unexpected for mixed ancestry individuals from America. There is also a sort of merge betwen Africans AFR (Africans) and AMR. This is also not unexpected, and is indicative of mixed ancestry as well. <br>\n",
    "\n",
    "More interestingly, the SAS (South Asian) super population completely overlaps the AMR super population. Let's a take a closer look at what populations comprise these super populations."
   ]
  },
  {
   "cell_type": "code",
   "execution_count": 42,
   "metadata": {},
   "outputs": [
    {
     "name": "stdout",
     "output_type": "stream",
     "text": [
      "SAS populations: ITU, BEB, PJL, STU, GIH \n",
      "AMR populations: MXL, PEL, CLM, PUR\n"
     ]
    }
   ],
   "source": [
    "sas_pops = pop[pop['super_pop']=='SAS']['pop']\n",
    "amr_pops = pop[pop['super_pop']=='AMR']['pop']\n",
    "print('SAS populations: %s \\nAMR populations: %s' % (', '.join(set(sas_pops)), ', '.join(set(amr_pops))))\n"
   ]
  },
  {
   "cell_type": "markdown",
   "metadata": {},
   "source": [
    "| Population code | Population | Super-population code|\n",
    "| - | - | - |\n",
    "| ITU | Indian Telugu from the UK | SAS |\n",
    "| BEB | Bengali from Bangladesh | SAS |\n",
    "| PJL | Bengali from Bangladesh | SAS |\n",
    "| STU | Sri Lankan Tamil from the UK | SAS |\n",
    "| GIH | Gujarati Indian from Houston, Texas\t| SAS |\n",
    "| MXL | Mexican Ancestry from Los Angeles, USA | AMR |\n",
    "| PEL | Peruvians from Lima, Peru | AMR | \n",
    "| CLM | Colombians from Medellin, Colombia | AMR |\n",
    "| PUR | Puerto Ricans from Puerto Rico | AMR |\n",
    "\n",
    "What do you think accounts for this large overlap? <br>"
   ]
  }
 ],
 "metadata": {
  "kernelspec": {
   "display_name": "Python 3",
   "language": "python",
   "name": "python3"
  },
  "language_info": {
   "codemirror_mode": {
    "name": "ipython",
    "version": 3
   },
   "file_extension": ".py",
   "mimetype": "text/x-python",
   "name": "python",
   "nbconvert_exporter": "python",
   "pygments_lexer": "ipython3",
   "version": "3.6.5"
  }
 },
 "nbformat": 4,
 "nbformat_minor": 2
}
